{
 "cells": [
  {
   "cell_type": "code",
   "execution_count": 5,
   "metadata": {
    "collapsed": true
   },
   "outputs": [],
   "source": [
    "\"\"\"Implement a function recursivly to get the desired\n",
    "Fibonacci sequence value.\n",
    "Your code should have the same input/output as the \n",
    "iterative code in the instructions.\"\"\"\n",
    "\n",
    "'''\n",
    "fib_seq = []\n",
    "fib_seq[0] = 0\n",
    "fib_seq[1] = 1\n",
    "fib_seq[2] = 1\n",
    "fib_seq[3] = 2\n",
    "fib_seq[4] = 3\n",
    "fib_seq[5] = 5\n",
    "fib_seq[6] = 8\n",
    "fib_seq[7] = 13\n",
    "fib_seq[8] = 21\n",
    "fib_seq[9] = 34\n",
    "\n",
    "'''\n",
    "\n",
    "\n",
    "def get_fib(position):\n",
    "    if position == 0 or position == 1:\n",
    "        return position\n",
    "    return get_fib(position - 1) + get_fib(position - 2)\n"
   ]
  },
  {
   "cell_type": "code",
   "execution_count": 6,
   "metadata": {},
   "outputs": [
    {
     "name": "stdout",
     "output_type": "stream",
     "text": [
      "34\n",
      "89\n",
      "0\n"
     ]
    }
   ],
   "source": [
    "\n",
    "# Test cases\n",
    "print (get_fib(9))\n",
    "print (get_fib(11))\n",
    "print (get_fib(0))\n"
   ]
  },
  {
   "cell_type": "code",
   "execution_count": null,
   "metadata": {
    "collapsed": true
   },
   "outputs": [],
   "source": []
  }
 ],
 "metadata": {
  "kernelspec": {
   "display_name": "Python 3",
   "language": "python",
   "name": "python3"
  },
  "language_info": {
   "codemirror_mode": {
    "name": "ipython",
    "version": 3
   },
   "file_extension": ".py",
   "mimetype": "text/x-python",
   "name": "python",
   "nbconvert_exporter": "python",
   "pygments_lexer": "ipython3",
   "version": "3.6.4"
  }
 },
 "nbformat": 4,
 "nbformat_minor": 2
}
