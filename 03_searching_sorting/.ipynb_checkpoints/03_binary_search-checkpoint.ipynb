{
 "cells": [
  {
   "cell_type": "code",
   "execution_count": 50,
   "metadata": {},
   "outputs": [],
   "source": [
    "\"\"\"You're going to write a binary search function.\n",
    "You should use an iterative approach - meaning\n",
    "using loops.\n",
    "Your function should take two inputs:\n",
    "a Python list to search through, and the value\n",
    "you're searching for.\n",
    "Assume the list only has distinct elements,\n",
    "meaning there are no repeated values, and \n",
    "elements are in a strictly increasing order.\n",
    "Return the index of value, or -1 if the value\n",
    "doesn't exist in the list.\"\"\"\n",
    "\n",
    "def binary_search(a_list, item):\n",
    "    \"\"\"Performs iterative binary search to find the position of an integer in a given, sorted, list.\n",
    "    a_list -- sorted list of integers\n",
    "    item -- integer you are searching for the position of\n",
    "    \"\"\"\n",
    "\n",
    "    first = 0\n",
    "    last = len(a_list) - 1\n",
    "\n",
    "    while first <= last:\n",
    "        i = int((first + last) / 2)\n",
    "\n",
    "        if item == a_list[i] :\n",
    "            return '{item} found at position {i}'.format(item=item, i=i)\n",
    "        elif item < a_list[i] :\n",
    "            last = i - 1\n",
    "        elif item > a_list[i] :\n",
    "            first = i + 1\n",
    "        else:\n",
    "            return '{item} not found in the list'.format(item=item)\n",
    "\n"
   ]
  },
  {
   "cell_type": "code",
   "execution_count": 51,
   "metadata": {},
   "outputs": [
    {
     "name": "stdout",
     "output_type": "stream",
     "text": [
      "None\n",
      "11 found at position 3\n"
     ]
    }
   ],
   "source": [
    "\n",
    "test_list = [1,3,9,11,15,19,29]\n",
    "test_val1 = 25\n",
    "test_val2 = 11\n",
    "print (binary_search(test_list, test_val1))\n",
    "print (binary_search(test_list, test_val2))"
   ]
  },
  {
   "cell_type": "code",
   "execution_count": null,
   "metadata": {
    "collapsed": true
   },
   "outputs": [],
   "source": []
  }
 ],
 "metadata": {
  "kernelspec": {
   "display_name": "Python 3",
   "language": "python",
   "name": "python3"
  },
  "language_info": {
   "codemirror_mode": {
    "name": "ipython",
    "version": 3
   },
   "file_extension": ".py",
   "mimetype": "text/x-python",
   "name": "python",
   "nbconvert_exporter": "python",
   "pygments_lexer": "ipython3",
   "version": "3.6.4"
  }
 },
 "nbformat": 4,
 "nbformat_minor": 2
}
