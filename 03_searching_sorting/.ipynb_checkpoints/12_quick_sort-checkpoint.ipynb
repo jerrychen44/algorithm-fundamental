{
 "cells": [
  {
   "cell_type": "code",
   "execution_count": null,
   "metadata": {
    "collapsed": true
   },
   "outputs": [],
   "source": [
    "\n"
   ]
  },
  {
   "cell_type": "code",
   "execution_count": 1,
   "metadata": {
    "collapsed": true
   },
   "outputs": [],
   "source": [
    "#original version\n",
    "def quicksort_oriver(array, start = 0, end = None):\n",
    "    if end is None:\n",
    "        end = len(array) - 1\n",
    "    if end - start < 1:\n",
    "        return array\n",
    "    else:\n",
    "        current = start\n",
    "        pivot = end # selected the last=end element as our first pivot\n",
    "        while 1:\n",
    "            if current == pivot:# current will keep  +1 to right, and pivot will -1 to left\n",
    "                break# which means the pivot element is in right place\n",
    "            elif array[current] > array[pivot]:\n",
    "                array[pivot], array[current], array[pivot - 1] = (\n",
    "                    array[current], array[pivot - 1], array[pivot])\n",
    "                pivot -= 1\n",
    "            else:\n",
    "                current += 1\n",
    "        quicksort_oriver(array, start, pivot - 1)\n",
    "        quicksort_oriver(array, pivot + 1, end)\n",
    "        return array"
   ]
  },
  {
   "cell_type": "code",
   "execution_count": 2,
   "metadata": {},
   "outputs": [
    {
     "name": "stdout",
     "output_type": "stream",
     "text": [
      "[1, 3, 4, 6, 9, 14, 20, 21, 21, 25]\n"
     ]
    }
   ],
   "source": [
    "\n",
    "test = [21, 4, 1, 3, 9, 20, 25, 6, 21, 14]\n",
    "print (quicksort_oriver(test))"
   ]
  },
  {
   "cell_type": "code",
   "execution_count": 3,
   "metadata": {
    "collapsed": true
   },
   "outputs": [],
   "source": [
    "#other verion\n",
    "\"\"\"Implement quick sort in Python.\n",
    "Input a list.\n",
    "Output a sorted list.\"\"\"\n",
    "import random\n",
    "def sub_partition(array, start, end, idx_pivot):\n",
    "\n",
    "    'returns the position where the pivot winds up'\n",
    "\n",
    "    if not (start <= idx_pivot <= end):\n",
    "        raise ValueError('idx pivot must be between start and end')\n",
    "\n",
    "    array[start], array[idx_pivot] = array[idx_pivot], array[start]\n",
    "    pivot = array[start]\n",
    "    i = start + 1\n",
    "    j = start + 1\n",
    "\n",
    "    while j <= end:\n",
    "        if array[j] <= pivot:\n",
    "            array[j], array[i] = array[i], array[j]\n",
    "            i += 1\n",
    "        j += 1\n",
    "\n",
    "    array[start], array[i - 1] = array[i - 1], array[start]\n",
    "    return i - 1\n",
    "\n",
    "def quicksort_other(array, start=0, end=None):\n",
    "\n",
    "    if end is None:\n",
    "        end = len(array) - 1\n",
    "    print('start',start)\n",
    "    print('end',end)\n",
    "    if end - start < 1:\n",
    "        print('end - start < 1, return')\n",
    "        return\n",
    "\n",
    "    idx_pivot = random.randint(start, end)\n",
    "    i = sub_partition(array, start, end, idx_pivot)\n",
    "    #print array, i, idx_pivot\n",
    "    quicksort_other(array, start, i - 1)\n",
    "    quicksort_other(array, i + 1, end)\n",
    "    \n",
    "    return array\n"
   ]
  },
  {
   "cell_type": "code",
   "execution_count": 4,
   "metadata": {},
   "outputs": [
    {
     "name": "stdout",
     "output_type": "stream",
     "text": [
      "start 0\n",
      "end 9\n",
      "start 0\n",
      "end 7\n",
      "start 0\n",
      "end 0\n",
      "end - start < 1, return\n",
      "start 2\n",
      "end 7\n",
      "start 2\n",
      "end 4\n",
      "start 2\n",
      "end 1\n",
      "end - start < 1, return\n",
      "start 3\n",
      "end 4\n",
      "start 3\n",
      "end 2\n",
      "end - start < 1, return\n",
      "start 4\n",
      "end 4\n",
      "end - start < 1, return\n",
      "start 6\n",
      "end 7\n",
      "start 6\n",
      "end 6\n",
      "end - start < 1, return\n",
      "start 8\n",
      "end 7\n",
      "end - start < 1, return\n",
      "start 9\n",
      "end 9\n",
      "end - start < 1, return\n",
      "[1, 3, 4, 6, 9, 14, 20, 21, 21, 25]\n"
     ]
    }
   ],
   "source": [
    "\n",
    "test = [21, 4, 1, 3, 9, 20, 25, 6, 21, 14]\n",
    "print (quicksort_other(test))"
   ]
  }
 ],
 "metadata": {
  "kernelspec": {
   "display_name": "Python 3",
   "language": "python",
   "name": "python3"
  },
  "language_info": {
   "codemirror_mode": {
    "name": "ipython",
    "version": 3
   },
   "file_extension": ".py",
   "mimetype": "text/x-python",
   "name": "python",
   "nbconvert_exporter": "python",
   "pygments_lexer": "ipython3",
   "version": "3.6.4"
  }
 },
 "nbformat": 4,
 "nbformat_minor": 2
}
